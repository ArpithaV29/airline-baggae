{
 "cells": [
  {
   "cell_type": "code",
   "execution_count": 2,
   "metadata": {},
   "outputs": [
    {
     "name": "stdout",
     "output_type": "stream",
     "text": [
      "           Name  Value  Weight\n",
      "0        lenovo     40       4\n",
      "1       airpods     42       5\n",
      "2  apple watch      25       7\n",
      "3          asus     12       3\n",
      "Enter the Airline limit:60\n",
      "Enter Bag weight:50\n",
      "Total worth of packed items:  82\n",
      "K table:\n",
      "   0   1   2   3   4   5   6   7   8   9   ...  51  52  53  54  55  56  57  \\\n",
      "0   0   0   0   0   0   0   0   0   0   0  ...   0   0   0   0   0   0   0   \n",
      "1   0   0   0   0   0   0   0   0   0   0  ...   0   0   0  40  40  40  40   \n",
      "2   0   0   0   0   0   0   0   0   0   0  ...   0   0   0  40  42  42  42   \n",
      "3   0   0   0   0   0   0   0   0   0   0  ...   0   0   0  40  42  42  42   \n",
      "4   0   0   0   0   0   0   0   0   0   0  ...   0   0  12  40  42  42  52   \n",
      "\n",
      "   58  59  60  \n",
      "0   0   0   0  \n",
      "1  40  40  40  \n",
      "2  42  82  82  \n",
      "3  42  82  82  \n",
      "4  54  82  82  \n",
      "\n",
      "[5 rows x 61 columns]\n",
      "ITEM  2 with a weight of  5 g is picked\n",
      "ITEM  1 with a weight of  4 g is picked\n",
      "Total weight of bag and items: 59 g\n"
     ]
    }
   ],
   "source": [
    "from pandas import * #reading the csv file\n",
    "import pandas as pd\n",
    "col_list=[\"Name\",\"Value\",\"Weight\"]\n",
    "df = pd.read_csv('knapsack.csv',usecols=col_list)\n",
    "print(df)\n",
    "val1=df[\"Value\"]\n",
    "weight1=df[\"Weight\"]\n",
    "\n",
    "\n",
    "def printknapSack(W, wt, val, n,total_weight): \n",
    "    K = [[0 for w in range(W + 1)] \n",
    "            for i in range(n + 1)] \n",
    "              \n",
    "    \n",
    "    for i in range(n + 1): \n",
    "        for w in range(W + 1): \n",
    "            if i == 0 or w == 0: \n",
    "                K[i][w] = 0\n",
    "            elif int(wt[i - 1])+Bag_weight <= w: \n",
    "                K[i][w] = max(int(val[i-1]) + K[i-1][w-int(wt[i-1])], K[i-1][w])\n",
    "            else: \n",
    "                K[i][w] = K[i - 1][w] \n",
    "  \n",
    "    \n",
    "    res = K[n][W] \n",
    "    print('Total worth of packed items: ',res)\n",
    "    print(\"K table:\")\n",
    "    print(DataFrame(K))\n",
    "      \n",
    "    w = W \n",
    "    for i in range(n, 0, -1): \n",
    "        if res <= 0: \n",
    "            break\n",
    "        \n",
    "        if res == K[i - 1][w]: \n",
    "            continue\n",
    "        else: \n",
    "  \n",
    "            # This item is included. \n",
    "            print('ITEM ' ,i, 'with a weight of ' ,wt[i-1],'g is picked')\n",
    "            total_weight=total_weight+int(wt[i-1])\n",
    "            if i==1:\n",
    "                print(\"Total weight of bag and items:\",total_weight+Bag_weight,'g')\n",
    "            \n",
    "            \n",
    "              \n",
    "            # Since this weight is included \n",
    "            # its value is deducted \n",
    "            res = res - int(val[i - 1]) \n",
    "            w = w - int(wt[i - 1])\n",
    "W = int(input(\"Enter the Airline limit:\"))\n",
    "Bag_weight=int(input(\"Enter Bag weight:\"))\n",
    "n = len(val1)       \n",
    "printknapSack(W, weight1, val1 ,n,0)\n"
   ]
  },
  {
   "cell_type": "code",
   "execution_count": null,
   "metadata": {},
   "outputs": [],
   "source": []
  }
 ],
 "metadata": {
  "kernelspec": {
   "display_name": "Python 3",
   "language": "python",
   "name": "python3"
  },
  "language_info": {
   "codemirror_mode": {
    "name": "ipython",
    "version": 3
   },
   "file_extension": ".py",
   "mimetype": "text/x-python",
   "name": "python",
   "nbconvert_exporter": "python",
   "pygments_lexer": "ipython3",
   "version": "3.8.3"
  }
 },
 "nbformat": 4,
 "nbformat_minor": 2
}
